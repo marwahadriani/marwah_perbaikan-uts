{
 "cells": [
  {
   "cell_type": "code",
   "execution_count": 1,
   "id": "d8b3bbd1",
   "metadata": {},
   "outputs": [
    {
     "name": "stdout",
     "output_type": "stream",
     "text": [
      "masukan email marwahadriani8@gmail.com\n",
      "True\n"
     ]
    }
   ],
   "source": [
    "# Essai 1\n",
    "email = input (\"masukan email\")\n",
    "pos_at = 0\n",
    "pos_titik = 0\n",
    "pos_at = email.find ('@')\n",
    "pos_titik = email.find ('.')\n",
    "print (pos_at < pos_titik)"
   ]
  },
  {
   "cell_type": "code",
   "execution_count": 2,
   "id": "18fe28c4",
   "metadata": {},
   "outputs": [
    {
     "name": "stdout",
     "output_type": "stream",
     "text": [
      "Masukan Kalimat : semoga kita selalu diberi kesehatan\n",
      "s3mog4 kit4 s3l4lu dib3ri k3s3h4t4n\n"
     ]
    }
   ],
   "source": [
    "#Essai  2\n",
    "kalimat = input(\"Masukan Kalimat : \")\n",
    "i = 0\n",
    "kata = \"\"\n",
    "for i in range(len(kalimat)):\n",
    "    if kalimat[i] == \"a\" or kalimat[i] == \"A\":\n",
    "        kata = kata + \"4\"\n",
    "    elif kalimat[i] == \"e\" or kalimat[i] == \"E\":\n",
    "        kata = kata + \"3\"\n",
    "    elif kalimat[i] == \"L\":\n",
    "        kata = kata + \"7\"\n",
    "    elif kalimat[i] == \"S\":\n",
    "        kata = kata + \"5\"\n",
    "    else:\n",
    "        kata = kata + kalimat[i]\n",
    "print(kata)"
   ]
  }
 ],
 "metadata": {
  "kernelspec": {
   "display_name": "Python 3 (ipykernel)",
   "language": "python",
   "name": "python3"
  },
  "language_info": {
   "codemirror_mode": {
    "name": "ipython",
    "version": 3
   },
   "file_extension": ".py",
   "mimetype": "text/x-python",
   "name": "python",
   "nbconvert_exporter": "python",
   "pygments_lexer": "ipython3",
   "version": "3.9.12"
  }
 },
 "nbformat": 4,
 "nbformat_minor": 5
}
